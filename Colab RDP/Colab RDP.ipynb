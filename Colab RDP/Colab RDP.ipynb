{
  "nbformat": 4,
  "nbformat_minor": 0,
  "metadata": {
    "colab": {
      "name": "Colab RDP.ipynb",
      "provenance": [],
      "collapsed_sections": [],
      "toc_visible": true,
      "include_colab_link": true
    },
    "kernelspec": {
      "name": "python3",
      "display_name": "Python 3"
    }
  },
  "cells": [
    {
      "cell_type": "markdown",
      "metadata": {
        "id": "view-in-github",
        "colab_type": "text"
      },
      "source": [
        "<a href=\"https://colab.research.google.com/github/PradyumnaKrishna/Colab-Hacks/blob/RDP-v2/Colab%20RDP/Colab%20RDP.ipynb\" target=\"_parent\"><img src=\"https://colab.research.google.com/assets/colab-badge.svg\" alt=\"Open In Colab\"/></a>"
      ]
    },
    {
      "cell_type": "markdown",
      "metadata": {
        "id": "iLh_9SkSut4u"
      },
      "source": [
        "# **Colab RDP** : Remote Desktop to Colab Instance\n",
        "\n",
        "Used Google Remote Desktop & Ngrok Tunnel\n",
        "\n",
        "> **Warning :** This notebook is against the Policy of Colab. Use it on your own risk\n",
        "\n",
        "Google Colab can give you Instance with 12GB of RAM and GPU for 12 hours (Max.). Anyone can use it to perform Heavy Tasks\n",
        "\n",
        "To use other similiar Notebooks use my Repository **[Colab Hacks](https://github.com/PradyumnaKrishna/Colab-Hacks)**"
      ]
    },
    {
      "cell_type": "code",
      "metadata": {
        "id": "Q6bl1b0EifVG",
        "cellView": "form"
      },
      "source": [
        "#@title **One Click RDP**\n",
        "#@markdown  It takes 4-5 minutes for installation\n",
        "\n",
        "username = \"user\" #@param {type:\"string\"}\n",
        "password = \"root\" #@param {type:\"string\"}\n",
        "\n",
        "#@markdown  Visit http://remotedesktop.google.com/headless and Copy the command after authentication\n",
        "\n",
        "CRP = \"\" #@param {type:\"string\"}\n",
        "\n",
        "#@markdown  To Sleep the Colab Notebook\n",
        "\n",
        "Sleep = True #@param {type:\"boolean\"}\n",
        "\n",
        "\n",
        "print(\"Creating User and Setting it up\")\n",
        "\n",
        "# Creation of user\n",
        "! sudo useradd -m $username &> /dev/null\n",
        "\n",
        "# Add user to sudo group\n",
        "! sudo adduser $username sudo &> /dev/null\n",
        "    \n",
        "# Set password of user to 'root'\n",
        "! echo '$username:$password' | sudo chpasswd\n",
        "\n",
        "# Change default shell from sh to bash\n",
        "! sed -i 's/\\/bin\\/sh/\\/bin\\/bash/g' /etc/passwd\n",
        "\n",
        "print(\"User Created and Configured\")\n",
        "\n",
        "with open('install.sh', 'w') as script:\n",
        "    script.write(\"\"\"#! /bin/bash\n",
        "\n",
        "b='\\033[1m'\n",
        "r='\\E[31m'\n",
        "g='\\E[32m'\n",
        "c='\\E[36m'\n",
        "endc='\\E[0m'\n",
        "enda='\\033[0m'\n",
        "\n",
        "printf \"\\n\\n$c$b    Loading Installer $endc$enda\" >&2\n",
        "if sudo apt-get update &> /dev/null\n",
        "then\n",
        "    printf \"\\r$g$b    Installer Loaded $endc$enda\\n\" >&2\n",
        "else\n",
        "    printf \"\\r$r$b    Error Occured $endc$enda\\n\" >&2\n",
        "    exit\n",
        "fi\n",
        "\n",
        "printf \"\\n$g$b    Installing Chrome Remote Desktop $endc$enda\" >&2\n",
        "{\n",
        "    wget https://dl.google.com/linux/direct/chrome-remote-desktop_current_amd64.deb\n",
        "    sudo dpkg --install chrome-remote-desktop_current_amd64.deb\n",
        "    sudo apt install --assume-yes --fix-broken\n",
        "} &> /dev/null &&\n",
        "printf \"\\r$c$b    Chrome Remote Desktop Installed $endc$enda\\n\" >&2 ||\n",
        "{ printf \"\\r$r$b    Error Occured $endc$enda\\n\" >&2; exit; }\n",
        "sleep 3\n",
        "\n",
        "printf \"$g$b    Installing Desktop Environment $endc$enda\" >&2\n",
        "{\n",
        "    sudo DEBIAN_FRONTEND=noninteractive \\\n",
        "        apt install --assume-yes xfce4 desktop-base\n",
        "    sudo bash -c 'echo \"exec /etc/X11/Xsession /usr/bin/xfce4-session\" > /etc/chrome-remote-desktop-session'  \n",
        "    sudo apt install --assume-yes xscreensaver\n",
        "    sudo systemctl disable lightdm.service\n",
        "} &> /dev/null &&\n",
        "printf \"\\r$c$b    Desktop Environment Installed $endc$enda\\n\" >&2 ||\n",
        "{ printf \"\\r$r$b    Error Occured $endc$enda\\n\" >&2; exit; }\n",
        "sleep 3\n",
        "\n",
        "printf \"$g$b    Installing Google Chrome $endc$enda\" >&2\n",
        "{\n",
        "    wget https://dl.google.com/linux/direct/google-chrome-stable_current_amd64.deb\n",
        "    sudo dpkg --install google-chrome-stable_current_amd64.deb\n",
        "    sudo apt install --assume-yes --fix-broken\n",
        "} &> /dev/null &&\n",
        "printf \"\\r$c$b    Google Chrome Installed $endc$enda\\n\" >&2 ||\n",
        "printf \"\\r$r$b    Error Occured $endc$enda\\n\" >&2\n",
        "sleep 3\n",
        "\n",
        "printf \"$g$b    Installing other Tools $endc$enda\" >&2\n",
        "if sudo apt install nautilus nano -y &> /dev/null\n",
        "then\n",
        "    printf \"\\r$c$b    Other Tools Installed $endc$enda\\n\" >&2\n",
        "else\n",
        "    printf \"\\r$r$b    Error Occured $endc$enda\\n\" >&2\n",
        "fi\n",
        "sleep 3\n",
        "\n",
        "printf \"\\n$g$b    Installation Completed $endc$enda\\n\\n\" >&2\"\"\")\n",
        "    \n",
        "! chmod +x install.sh\n",
        "! ./install.sh\n",
        "\n",
        "# Adding user to CRP group\n",
        "! sudo adduser $username chrome-remote-desktop &> /dev/null\n",
        "\n",
        "# Finishing Work\n",
        "! su - $username -c \"\"\"$CRP\"\"\"\n",
        "\n",
        "print(\"Finished Succesfully\")\n",
        "\n",
        "if Sleep:\n",
        "    ! sleep 43200"
      ],
      "execution_count": null,
      "outputs": []
    },
    {
      "cell_type": "code",
      "metadata": {
        "cellView": "form",
        "id": "vk2qtOTGIFsQ"
      },
      "source": [
        "#@title Google Drive Mount\n",
        "#@markdown Google Drive used as Persistance HDD for files.<br>\n",
        "#@markdown Mounted at `user` Home directory inside drive folder.\n",
        "\n",
        "#@markdown Type username or leave default\n",
        "\n",
        "username = \"user\" #@param {type:\"string\"}\n",
        "mountpoint = \"/home/\"+username+\"/drive\"\n",
        "\n",
        "from os import environ as env\n",
        "from os.path import join as path_join\n",
        "from google.colab import drive\n",
        "\n",
        "env['user'] = username\n",
        "env['user_home'] = \"/home/{}\".format(username)\n",
        "env['mount_script'] = path_join(env['user_home'], 'drive_mount.sh')\n",
        "\n",
        "! runuser -l $user -c \"yes | python3 -m pip install --user google-colab\"  > /dev/null 2>&1\n",
        "\n",
        "! cp -r /root/.config/Google /home/$user/.config/Google > /dev/null 2>&1\n",
        "! mkdir -p /home/$user/.config/Google/DriveFS/Logs\n",
        "! chown -R $user:$user /home/user/.config/Google/DriveFS/Logs\n",
        "! mkdir -p $mountpoint > /dev/null 2>&1\n",
        "! chown -R $user:$user /content/.config\n",
        "! chown -R $user:$user /content > /dev/null 2>&1\n",
        "\n",
        "mount = \"\"\"\n",
        "#!/bin/sh\n",
        "\n",
        "from os import environ as env\n",
        "from google.colab import drive\n",
        "\n",
        "env['CLOUDSDK_CONFIG']  = '/content/.config'\n",
        "drive.mount('{}')\n",
        "\"\"\".format(mountpoint)\n",
        "\n",
        "with open(path_join(env['user_home'], \"drive_mount.sh\"), \"w\") as script:\n",
        "    script.write(mount)\n",
        "\n",
        "! chown -R  $user $user_home\n",
        "! chmod u+x $mount_script\n",
        "\n",
        "! runuser -l $user -c \"python3 /home/$user/drive_mount.sh\"\n",
        "\n",
        "! chown $user:$user $mountpoint > /dev/null 2>&1"
      ],
      "execution_count": null,
      "outputs": []
    },
    {
      "cell_type": "markdown",
      "metadata": {
        "id": "ylJsUPh-ihQ0"
      },
      "source": [
        "## **Standard Method**"
      ]
    },
    {
      "cell_type": "markdown",
      "metadata": {
        "id": "cpktYY4Cwqxf"
      },
      "source": [
        "### Before We Started\n",
        "- Create a Ngrok Account to configure tunnel\n",
        "- Don't use username : `root`"
      ]
    },
    {
      "cell_type": "markdown",
      "metadata": {
        "id": "RLkhifGWu_1X"
      },
      "source": [
        "### Installing Colab SSH Library"
      ]
    },
    {
      "cell_type": "code",
      "metadata": {
        "id": "Ks-xI7nV2aW5"
      },
      "source": [
        "! pip install colab_ssh --upgrade\n",
        "from colab_ssh import launch_ssh, init_git"
      ],
      "execution_count": null,
      "outputs": []
    },
    {
      "cell_type": "markdown",
      "metadata": {
        "id": "3LAjx5HyvUe0"
      },
      "source": [
        "### Configure User"
      ]
    },
    {
      "cell_type": "markdown",
      "metadata": {
        "id": "iY0xW8IrvklB"
      },
      "source": [
        "Setting Username & Password"
      ]
    },
    {
      "cell_type": "code",
      "metadata": {
        "id": "fMXfodDURPZB"
      },
      "source": [
        "username = input(\"Enter username : \")\n",
        "password = input(\"Enter password : \")"
      ],
      "execution_count": null,
      "outputs": []
    },
    {
      "cell_type": "markdown",
      "metadata": {
        "id": "EcUIE8VDvcCD"
      },
      "source": [
        "Create User & Set Password"
      ]
    },
    {
      "cell_type": "code",
      "metadata": {
        "id": "uep_NskcRq4c"
      },
      "source": [
        "! sudo useradd -m $username\n",
        "! sudo adduser $username sudo\n",
        "! echo '$username:$password' | sudo chpasswd\n",
        "! sed -i 's/\\/bin\\/sh/\\/bin\\/bash/g' /etc/passwd"
      ],
      "execution_count": null,
      "outputs": []
    },
    {
      "cell_type": "markdown",
      "metadata": {
        "id": "mnK94LuVvt3a"
      },
      "source": [
        "### Mount Google Drive"
      ]
    },
    {
      "cell_type": "code",
      "metadata": {
        "id": "GpmseAlaYuwY"
      },
      "source": [
        "from google.colab import drive\n",
        "home='/home/'+username+'/drive'\n",
        "drive.mount(home)"
      ],
      "execution_count": null,
      "outputs": []
    },
    {
      "cell_type": "markdown",
      "metadata": {
        "id": "70AUcQIPxB0e"
      },
      "source": [
        "### Setting Chrome Remote Desktop"
      ]
    },
    {
      "cell_type": "markdown",
      "metadata": {
        "id": "3bo6Aq7xxkjT"
      },
      "source": [
        "Download Remote Desktop Installation Script"
      ]
    },
    {
      "cell_type": "code",
      "metadata": {
        "id": "p_9JGChxxKDs"
      },
      "source": [
        "! wget https://github.com/PradyumnaKrishna/Colab-Hacks/raw/master/Colab%20RDP/install.sh -P /home/$username"
      ],
      "execution_count": null,
      "outputs": []
    },
    {
      "cell_type": "markdown",
      "metadata": {
        "id": "zsJ8sPTfx3oE"
      },
      "source": [
        "Use the script \n",
        "\n",
        "- It install the required files and configure your instance\n",
        "- It takes 4-5 mintues to complete the process"
      ]
    },
    {
      "cell_type": "code",
      "metadata": {
        "id": "1EsGY1VQ4mry"
      },
      "source": [
        "! sudo chmod +x /home/$username/install.sh\n",
        "! sudo /home/$username/install.sh"
      ],
      "execution_count": null,
      "outputs": []
    },
    {
      "cell_type": "markdown",
      "metadata": {
        "id": "zNOpEkSRvzDN"
      },
      "source": [
        "### Run Ngrok Tunnel"
      ]
    },
    {
      "cell_type": "code",
      "metadata": {
        "id": "tNtwEGhvSJMB"
      },
      "source": [
        "print(\"Copy authtoken from https://dashboard.ngrok.com/auth\")\n",
        "ngrokToken = input(\"Enter Token : \")\n",
        "\n",
        "launch_ssh(ngrokToken, password)"
      ],
      "execution_count": null,
      "outputs": []
    },
    {
      "cell_type": "markdown",
      "metadata": {
        "id": "IoG0YmUPxnsT"
      },
      "source": [
        "Connect to instance via SSH \n",
        "- Use the command below in your terminal\n",
        "- When ask for password give your password which is set previously"
      ]
    },
    {
      "cell_type": "code",
      "metadata": {
        "id": "KjSebmRoSlOl"
      },
      "source": [
        "print(\"ssh\", username, end='@')\n",
        "!curl -s http://localhost:4040/api/tunnels | python3 -c \\\n",
        "    \"import sys, json; print(json.load(sys.stdin)['tunnels'][0]['public_url'][6:].replace(':', ' -p '))\""
      ],
      "execution_count": null,
      "outputs": []
    },
    {
      "cell_type": "markdown",
      "metadata": {
        "id": "b2BgUYJj8mHU"
      },
      "source": [
        "If unable to Connect through SSH then Kill and Start NGROK Tunnel again"
      ]
    },
    {
      "cell_type": "markdown",
      "metadata": {
        "id": "VyDzoqrcyeo1"
      },
      "source": [
        "### Authenticate Through [Remote Desktop Headless](http://remotedesktop.google.com/headless)\n",
        "- Open browser and go to http://remotedesktop.google.com/headless\n",
        "- Dont Download any file simply proceed directly to authenticate button\n",
        "- when you got a command copy and paste it to SSH terminal and complete the process by setting up a pin"
      ]
    },
    {
      "cell_type": "markdown",
      "metadata": {
        "id": "zbtNhA25zOXm"
      },
      "source": [
        "Now your process completes \n",
        "\n",
        "Visit [Remote Desktop](http://remotedesktop.google.com/access) at http://remotedesktop.google.com/headless to access your instance"
      ]
    },
    {
      "cell_type": "markdown",
      "metadata": {
        "id": "DNwQ66F5v4iu"
      },
      "source": [
        "### Kill Ngrok Tunnel"
      ]
    },
    {
      "cell_type": "code",
      "metadata": {
        "id": "9gMg9YWns-f0"
      },
      "source": [
        "! killall ngrok"
      ],
      "execution_count": null,
      "outputs": []
    },
    {
      "cell_type": "markdown",
      "metadata": {
        "id": "Sbus2Qb62MnM"
      },
      "source": [
        "### Sleep Colab\n",
        "Sleep Colab for 12 hours"
      ]
    },
    {
      "cell_type": "code",
      "metadata": {
        "id": "3UGxFLrh25LU"
      },
      "source": [
        "! sleep 43200"
      ],
      "execution_count": null,
      "outputs": []
    }
  ]
}